{
 "cells": [
  {
   "cell_type": "markdown",
   "id": "730953a3",
   "metadata": {},
   "source": [
    "Importing Libraries"
   ]
  },
  {
   "cell_type": "code",
   "execution_count": 1,
   "id": "e181f850",
   "metadata": {},
   "outputs": [],
   "source": [
    "import pandas as pd\n",
    "import numpy as np\n",
    "import seaborn as sns\n",
    "import matplotlib\n",
    "import matplotlib.pyplot as plt\n",
    "import os\n",
    "import sklearn\n",
    "from sklearn.model_selection import train_test_split \n",
    "from sklearn.linear_model import LinearRegression\n",
    "from sklearn.metrics import mean_squared_error, r2_score\n",
    "from datetime import date\n",
    "import datetime as dt"
   ]
  },
  {
   "cell_type": "code",
   "execution_count": 2,
   "id": "13eada1e",
   "metadata": {},
   "outputs": [],
   "source": [
    "%matplotlib inline"
   ]
  },
  {
   "cell_type": "code",
   "execution_count": 3,
   "id": "3f11f739",
   "metadata": {},
   "outputs": [],
   "source": [
    "path = r'/Users/umachidambaram/Aug-2021 Stock Analysis'"
   ]
  },
  {
   "cell_type": "code",
   "execution_count": 4,
   "id": "44afc869",
   "metadata": {},
   "outputs": [],
   "source": [
    "df = pd.read_csv(os.path.join(path, '6 Data', 'Prepared Data ', 'df_curr_con.csv'),index_col = False )"
   ]
  },
  {
   "cell_type": "code",
   "execution_count": 5,
   "id": "17fc7aba",
   "metadata": {},
   "outputs": [
    {
     "data": {
      "text/html": [
       "<div>\n",
       "<style scoped>\n",
       "    .dataframe tbody tr th:only-of-type {\n",
       "        vertical-align: middle;\n",
       "    }\n",
       "\n",
       "    .dataframe tbody tr th {\n",
       "        vertical-align: top;\n",
       "    }\n",
       "\n",
       "    .dataframe thead th {\n",
       "        text-align: right;\n",
       "    }\n",
       "</style>\n",
       "<table border=\"1\" class=\"dataframe\">\n",
       "  <thead>\n",
       "    <tr style=\"text-align: right;\">\n",
       "      <th></th>\n",
       "      <th>Unnamed: 0</th>\n",
       "      <th>Unnamed: 0.1</th>\n",
       "      <th>Index</th>\n",
       "      <th>Date</th>\n",
       "      <th>Open</th>\n",
       "      <th>High</th>\n",
       "      <th>Low</th>\n",
       "      <th>Close</th>\n",
       "      <th>Adj Close</th>\n",
       "      <th>Volume</th>\n",
       "      <th>country</th>\n",
       "      <th>Currency</th>\n",
       "      <th>High_con_currency</th>\n",
       "    </tr>\n",
       "  </thead>\n",
       "  <tbody>\n",
       "    <tr>\n",
       "      <th>0</th>\n",
       "      <td>0</td>\n",
       "      <td>0</td>\n",
       "      <td>NYA</td>\n",
       "      <td>1965-12-31</td>\n",
       "      <td>528.690002</td>\n",
       "      <td>528.690002</td>\n",
       "      <td>528.690002</td>\n",
       "      <td>528.690002</td>\n",
       "      <td>528.690002</td>\n",
       "      <td>0.0</td>\n",
       "      <td>United States</td>\n",
       "      <td>USD</td>\n",
       "      <td>528.690002</td>\n",
       "    </tr>\n",
       "    <tr>\n",
       "      <th>1</th>\n",
       "      <td>1</td>\n",
       "      <td>1</td>\n",
       "      <td>NYA</td>\n",
       "      <td>1966-01-03</td>\n",
       "      <td>527.210022</td>\n",
       "      <td>527.210022</td>\n",
       "      <td>527.210022</td>\n",
       "      <td>527.210022</td>\n",
       "      <td>527.210022</td>\n",
       "      <td>0.0</td>\n",
       "      <td>United States</td>\n",
       "      <td>USD</td>\n",
       "      <td>527.210022</td>\n",
       "    </tr>\n",
       "    <tr>\n",
       "      <th>2</th>\n",
       "      <td>2</td>\n",
       "      <td>2</td>\n",
       "      <td>NYA</td>\n",
       "      <td>1966-01-04</td>\n",
       "      <td>527.840027</td>\n",
       "      <td>527.840027</td>\n",
       "      <td>527.840027</td>\n",
       "      <td>527.840027</td>\n",
       "      <td>527.840027</td>\n",
       "      <td>0.0</td>\n",
       "      <td>United States</td>\n",
       "      <td>USD</td>\n",
       "      <td>527.840027</td>\n",
       "    </tr>\n",
       "    <tr>\n",
       "      <th>3</th>\n",
       "      <td>3</td>\n",
       "      <td>3</td>\n",
       "      <td>NYA</td>\n",
       "      <td>1966-01-05</td>\n",
       "      <td>531.119995</td>\n",
       "      <td>531.119995</td>\n",
       "      <td>531.119995</td>\n",
       "      <td>531.119995</td>\n",
       "      <td>531.119995</td>\n",
       "      <td>0.0</td>\n",
       "      <td>United States</td>\n",
       "      <td>USD</td>\n",
       "      <td>531.119995</td>\n",
       "    </tr>\n",
       "    <tr>\n",
       "      <th>4</th>\n",
       "      <td>4</td>\n",
       "      <td>4</td>\n",
       "      <td>NYA</td>\n",
       "      <td>1966-01-06</td>\n",
       "      <td>532.070007</td>\n",
       "      <td>532.070007</td>\n",
       "      <td>532.070007</td>\n",
       "      <td>532.070007</td>\n",
       "      <td>532.070007</td>\n",
       "      <td>0.0</td>\n",
       "      <td>United States</td>\n",
       "      <td>USD</td>\n",
       "      <td>532.070007</td>\n",
       "    </tr>\n",
       "  </tbody>\n",
       "</table>\n",
       "</div>"
      ],
      "text/plain": [
       "   Unnamed: 0  Unnamed: 0.1 Index        Date        Open        High  \\\n",
       "0           0             0   NYA  1965-12-31  528.690002  528.690002   \n",
       "1           1             1   NYA  1966-01-03  527.210022  527.210022   \n",
       "2           2             2   NYA  1966-01-04  527.840027  527.840027   \n",
       "3           3             3   NYA  1966-01-05  531.119995  531.119995   \n",
       "4           4             4   NYA  1966-01-06  532.070007  532.070007   \n",
       "\n",
       "          Low       Close   Adj Close  Volume        country Currency  \\\n",
       "0  528.690002  528.690002  528.690002     0.0  United States      USD   \n",
       "1  527.210022  527.210022  527.210022     0.0  United States      USD   \n",
       "2  527.840027  527.840027  527.840027     0.0  United States      USD   \n",
       "3  531.119995  531.119995  531.119995     0.0  United States      USD   \n",
       "4  532.070007  532.070007  532.070007     0.0  United States      USD   \n",
       "\n",
       "   High_con_currency  \n",
       "0         528.690002  \n",
       "1         527.210022  \n",
       "2         527.840027  \n",
       "3         531.119995  \n",
       "4         532.070007  "
      ]
     },
     "execution_count": 5,
     "metadata": {},
     "output_type": "execute_result"
    }
   ],
   "source": [
    "df.head()"
   ]
  },
  {
   "cell_type": "code",
   "execution_count": 6,
   "id": "4651ff0b",
   "metadata": {},
   "outputs": [],
   "source": [
    "# Convert currency in the column Open to US Dollars \n",
    "\n",
    "def Open_con_currency(row):\n",
    "    if row['country'] == 'United States':\n",
    "        calc = row['Open']\n",
    "        return calc\n",
    "    elif row['country'] == 'China':\n",
    "        calc = row['Open']*0.16\n",
    "        return calc\n",
    "    elif row['country'] == 'Canada':\n",
    "        calc = row['Open']*0.8\n",
    "        return calc\n",
    "    elif row['country'] == 'India':\n",
    "        calc = row['Open']*0.013\n",
    "        return calc\n",
    "    elif row['country'] == 'Switzerland':\n",
    "        calc = row['Open']*1.08\n",
    "        return calc\n",
    "    elif row['country'] == 'Taiwan':\n",
    "        calc = row['Open']*0.036\n",
    "        return calc\n",
    "    elif row['country'] == 'Africa':\n",
    "        calc = row['Open']*0.067\n",
    "        return calc\n",
    "    elif row['country'] == 'Japan':\n",
    "        calc = row['Open']*0.0089\n",
    "        return calc\n",
    "    elif row['country'] == 'Korea':\n",
    "        calc = row['Open']*0.00084\n",
    "        return calc\n",
    "    else: return '0'"
   ]
  },
  {
   "cell_type": "code",
   "execution_count": 7,
   "id": "57692d37",
   "metadata": {},
   "outputs": [
    {
     "data": {
      "text/html": [
       "<div>\n",
       "<style scoped>\n",
       "    .dataframe tbody tr th:only-of-type {\n",
       "        vertical-align: middle;\n",
       "    }\n",
       "\n",
       "    .dataframe tbody tr th {\n",
       "        vertical-align: top;\n",
       "    }\n",
       "\n",
       "    .dataframe thead th {\n",
       "        text-align: right;\n",
       "    }\n",
       "</style>\n",
       "<table border=\"1\" class=\"dataframe\">\n",
       "  <thead>\n",
       "    <tr style=\"text-align: right;\">\n",
       "      <th></th>\n",
       "      <th>Unnamed: 0</th>\n",
       "      <th>Unnamed: 0.1</th>\n",
       "      <th>Index</th>\n",
       "      <th>Date</th>\n",
       "      <th>Open</th>\n",
       "      <th>High</th>\n",
       "      <th>Low</th>\n",
       "      <th>Close</th>\n",
       "      <th>Adj Close</th>\n",
       "      <th>Volume</th>\n",
       "      <th>country</th>\n",
       "      <th>Currency</th>\n",
       "      <th>High_con_currency</th>\n",
       "      <th>Open_con_currency</th>\n",
       "    </tr>\n",
       "  </thead>\n",
       "  <tbody>\n",
       "    <tr>\n",
       "      <th>0</th>\n",
       "      <td>0</td>\n",
       "      <td>0</td>\n",
       "      <td>NYA</td>\n",
       "      <td>1965-12-31</td>\n",
       "      <td>528.690002</td>\n",
       "      <td>528.690002</td>\n",
       "      <td>528.690002</td>\n",
       "      <td>528.690002</td>\n",
       "      <td>528.690002</td>\n",
       "      <td>0.0</td>\n",
       "      <td>United States</td>\n",
       "      <td>USD</td>\n",
       "      <td>528.690002</td>\n",
       "      <td>528.690002</td>\n",
       "    </tr>\n",
       "    <tr>\n",
       "      <th>1</th>\n",
       "      <td>1</td>\n",
       "      <td>1</td>\n",
       "      <td>NYA</td>\n",
       "      <td>1966-01-03</td>\n",
       "      <td>527.210022</td>\n",
       "      <td>527.210022</td>\n",
       "      <td>527.210022</td>\n",
       "      <td>527.210022</td>\n",
       "      <td>527.210022</td>\n",
       "      <td>0.0</td>\n",
       "      <td>United States</td>\n",
       "      <td>USD</td>\n",
       "      <td>527.210022</td>\n",
       "      <td>527.210022</td>\n",
       "    </tr>\n",
       "    <tr>\n",
       "      <th>2</th>\n",
       "      <td>2</td>\n",
       "      <td>2</td>\n",
       "      <td>NYA</td>\n",
       "      <td>1966-01-04</td>\n",
       "      <td>527.840027</td>\n",
       "      <td>527.840027</td>\n",
       "      <td>527.840027</td>\n",
       "      <td>527.840027</td>\n",
       "      <td>527.840027</td>\n",
       "      <td>0.0</td>\n",
       "      <td>United States</td>\n",
       "      <td>USD</td>\n",
       "      <td>527.840027</td>\n",
       "      <td>527.840027</td>\n",
       "    </tr>\n",
       "    <tr>\n",
       "      <th>3</th>\n",
       "      <td>3</td>\n",
       "      <td>3</td>\n",
       "      <td>NYA</td>\n",
       "      <td>1966-01-05</td>\n",
       "      <td>531.119995</td>\n",
       "      <td>531.119995</td>\n",
       "      <td>531.119995</td>\n",
       "      <td>531.119995</td>\n",
       "      <td>531.119995</td>\n",
       "      <td>0.0</td>\n",
       "      <td>United States</td>\n",
       "      <td>USD</td>\n",
       "      <td>531.119995</td>\n",
       "      <td>531.119995</td>\n",
       "    </tr>\n",
       "    <tr>\n",
       "      <th>4</th>\n",
       "      <td>4</td>\n",
       "      <td>4</td>\n",
       "      <td>NYA</td>\n",
       "      <td>1966-01-06</td>\n",
       "      <td>532.070007</td>\n",
       "      <td>532.070007</td>\n",
       "      <td>532.070007</td>\n",
       "      <td>532.070007</td>\n",
       "      <td>532.070007</td>\n",
       "      <td>0.0</td>\n",
       "      <td>United States</td>\n",
       "      <td>USD</td>\n",
       "      <td>532.070007</td>\n",
       "      <td>532.070007</td>\n",
       "    </tr>\n",
       "  </tbody>\n",
       "</table>\n",
       "</div>"
      ],
      "text/plain": [
       "   Unnamed: 0  Unnamed: 0.1 Index        Date        Open        High  \\\n",
       "0           0             0   NYA  1965-12-31  528.690002  528.690002   \n",
       "1           1             1   NYA  1966-01-03  527.210022  527.210022   \n",
       "2           2             2   NYA  1966-01-04  527.840027  527.840027   \n",
       "3           3             3   NYA  1966-01-05  531.119995  531.119995   \n",
       "4           4             4   NYA  1966-01-06  532.070007  532.070007   \n",
       "\n",
       "          Low       Close   Adj Close  Volume        country Currency  \\\n",
       "0  528.690002  528.690002  528.690002     0.0  United States      USD   \n",
       "1  527.210022  527.210022  527.210022     0.0  United States      USD   \n",
       "2  527.840027  527.840027  527.840027     0.0  United States      USD   \n",
       "3  531.119995  531.119995  531.119995     0.0  United States      USD   \n",
       "4  532.070007  532.070007  532.070007     0.0  United States      USD   \n",
       "\n",
       "   High_con_currency Open_con_currency  \n",
       "0         528.690002        528.690002  \n",
       "1         527.210022        527.210022  \n",
       "2         527.840027        527.840027  \n",
       "3         531.119995        531.119995  \n",
       "4         532.070007        532.070007  "
      ]
     },
     "execution_count": 7,
     "metadata": {},
     "output_type": "execute_result"
    }
   ],
   "source": [
    "df['Open_con_currency'] =df.apply(Open_con_currency, axis=1)\n",
    "df.head()"
   ]
  },
  {
   "cell_type": "code",
   "execution_count": 8,
   "id": "42d80a08",
   "metadata": {},
   "outputs": [],
   "source": [
    "# Convert the High (currency converted column) to float from object\n",
    "\n",
    "df.Open_con_currency = df.Open_con_currency.astype(float)\n",
    "df.High_con_currency = df.High_con_currency.astype(float)"
   ]
  },
  {
   "cell_type": "code",
   "execution_count": 9,
   "id": "8af1b26e",
   "metadata": {},
   "outputs": [
    {
     "data": {
      "image/png": "[encoded data removed]",
      "text/plain": [
       "<Figure size 432x288 with 1 Axes>"
      ]
     },
     "metadata": {
      "needs_background": "light"
     },
     "output_type": "display_data"
    }
   ],
   "source": [
    "# Create a scatterplot using matplotlib of High Stock price vs Opening Stock Price.\n",
    "\n",
    "df.plot(x = 'High_con_currency', y='Open_con_currency',style='o') \n",
    "plt.title('High Stock Price vs Opening Stock Price')  \n",
    "plt.xlabel('High Stock price')  \n",
    "plt.ylabel('Opening Stock Price')  \n",
    "plt.show()"
   ]
  },
  {
   "cell_type": "markdown",
   "id": "944437c9",
   "metadata": {},
   "source": [
    "Hypothesis:\n",
    "There is a strong positive relation between High Stock Price and Opening Stock Price."
   ]
  },
  {
   "cell_type": "code",
   "execution_count": 10,
   "id": "2a488b6e",
   "metadata": {},
   "outputs": [
    {
     "data": {
      "text/html": [
       "<div>\n",
       "<style scoped>\n",
       "    .dataframe tbody tr th:only-of-type {\n",
       "        vertical-align: middle;\n",
       "    }\n",
       "\n",
       "    .dataframe tbody tr th {\n",
       "        vertical-align: top;\n",
       "    }\n",
       "\n",
       "    .dataframe thead th {\n",
       "        text-align: right;\n",
       "    }\n",
       "</style>\n",
       "<table border=\"1\" class=\"dataframe\">\n",
       "  <thead>\n",
       "    <tr style=\"text-align: right;\">\n",
       "      <th></th>\n",
       "      <th>Unnamed: 0</th>\n",
       "      <th>Unnamed: 0.1</th>\n",
       "      <th>Index</th>\n",
       "      <th>Date</th>\n",
       "      <th>Open</th>\n",
       "      <th>High</th>\n",
       "      <th>Low</th>\n",
       "      <th>Close</th>\n",
       "      <th>Adj Close</th>\n",
       "      <th>Volume</th>\n",
       "      <th>country</th>\n",
       "      <th>Currency</th>\n",
       "      <th>High_con_currency</th>\n",
       "      <th>Open_con_currency</th>\n",
       "      <th>Year</th>\n",
       "    </tr>\n",
       "  </thead>\n",
       "  <tbody>\n",
       "    <tr>\n",
       "      <th>0</th>\n",
       "      <td>0</td>\n",
       "      <td>0</td>\n",
       "      <td>NYA</td>\n",
       "      <td>1965-12-31</td>\n",
       "      <td>528.690002</td>\n",
       "      <td>528.690002</td>\n",
       "      <td>528.690002</td>\n",
       "      <td>528.690002</td>\n",
       "      <td>528.690002</td>\n",
       "      <td>0.0</td>\n",
       "      <td>United States</td>\n",
       "      <td>USD</td>\n",
       "      <td>528.690002</td>\n",
       "      <td>528.690002</td>\n",
       "      <td>1965</td>\n",
       "    </tr>\n",
       "    <tr>\n",
       "      <th>1</th>\n",
       "      <td>1</td>\n",
       "      <td>1</td>\n",
       "      <td>NYA</td>\n",
       "      <td>1966-01-03</td>\n",
       "      <td>527.210022</td>\n",
       "      <td>527.210022</td>\n",
       "      <td>527.210022</td>\n",
       "      <td>527.210022</td>\n",
       "      <td>527.210022</td>\n",
       "      <td>0.0</td>\n",
       "      <td>United States</td>\n",
       "      <td>USD</td>\n",
       "      <td>527.210022</td>\n",
       "      <td>527.210022</td>\n",
       "      <td>1966</td>\n",
       "    </tr>\n",
       "    <tr>\n",
       "      <th>2</th>\n",
       "      <td>2</td>\n",
       "      <td>2</td>\n",
       "      <td>NYA</td>\n",
       "      <td>1966-01-04</td>\n",
       "      <td>527.840027</td>\n",
       "      <td>527.840027</td>\n",
       "      <td>527.840027</td>\n",
       "      <td>527.840027</td>\n",
       "      <td>527.840027</td>\n",
       "      <td>0.0</td>\n",
       "      <td>United States</td>\n",
       "      <td>USD</td>\n",
       "      <td>527.840027</td>\n",
       "      <td>527.840027</td>\n",
       "      <td>1966</td>\n",
       "    </tr>\n",
       "    <tr>\n",
       "      <th>3</th>\n",
       "      <td>3</td>\n",
       "      <td>3</td>\n",
       "      <td>NYA</td>\n",
       "      <td>1966-01-05</td>\n",
       "      <td>531.119995</td>\n",
       "      <td>531.119995</td>\n",
       "      <td>531.119995</td>\n",
       "      <td>531.119995</td>\n",
       "      <td>531.119995</td>\n",
       "      <td>0.0</td>\n",
       "      <td>United States</td>\n",
       "      <td>USD</td>\n",
       "      <td>531.119995</td>\n",
       "      <td>531.119995</td>\n",
       "      <td>1966</td>\n",
       "    </tr>\n",
       "    <tr>\n",
       "      <th>4</th>\n",
       "      <td>4</td>\n",
       "      <td>4</td>\n",
       "      <td>NYA</td>\n",
       "      <td>1966-01-06</td>\n",
       "      <td>532.070007</td>\n",
       "      <td>532.070007</td>\n",
       "      <td>532.070007</td>\n",
       "      <td>532.070007</td>\n",
       "      <td>532.070007</td>\n",
       "      <td>0.0</td>\n",
       "      <td>United States</td>\n",
       "      <td>USD</td>\n",
       "      <td>532.070007</td>\n",
       "      <td>532.070007</td>\n",
       "      <td>1966</td>\n",
       "    </tr>\n",
       "  </tbody>\n",
       "</table>\n",
       "</div>"
      ],
      "text/plain": [
       "   Unnamed: 0  Unnamed: 0.1 Index        Date        Open        High  \\\n",
       "0           0             0   NYA  1965-12-31  528.690002  528.690002   \n",
       "1           1             1   NYA  1966-01-03  527.210022  527.210022   \n",
       "2           2             2   NYA  1966-01-04  527.840027  527.840027   \n",
       "3           3             3   NYA  1966-01-05  531.119995  531.119995   \n",
       "4           4             4   NYA  1966-01-06  532.070007  532.070007   \n",
       "\n",
       "          Low       Close   Adj Close  Volume        country Currency  \\\n",
       "0  528.690002  528.690002  528.690002     0.0  United States      USD   \n",
       "1  527.210022  527.210022  527.210022     0.0  United States      USD   \n",
       "2  527.840027  527.840027  527.840027     0.0  United States      USD   \n",
       "3  531.119995  531.119995  531.119995     0.0  United States      USD   \n",
       "4  532.070007  532.070007  532.070007     0.0  United States      USD   \n",
       "\n",
       "   High_con_currency  Open_con_currency  Year  \n",
       "0         528.690002         528.690002  1965  \n",
       "1         527.210022         527.210022  1966  \n",
       "2         527.840027         527.840027  1966  \n",
       "3         531.119995         531.119995  1966  \n",
       "4         532.070007         532.070007  1966  "
      ]
     },
     "execution_count": 10,
     "metadata": {},
     "output_type": "execute_result"
    }
   ],
   "source": [
    "# Create Year column (can be used if need to get a subset of recent stock data.)\n",
    "\n",
    "df['Year'] = pd.DatetimeIndex(df['Date']).year\n",
    "df.head()"
   ]
  },
  {
   "cell_type": "code",
   "execution_count": 17,
   "id": "df61a344",
   "metadata": {},
   "outputs": [
    {
     "name": "stderr",
     "output_type": "stream",
     "text": [
      "/Applications/anaconda3/lib/python3.8/site-packages/seaborn/distributions.py:2557: FutureWarning: `distplot` is a deprecated function and will be removed in a future version. Please adapt your code to use either `displot` (a figure-level function with similar flexibility) or `histplot` (an axes-level function for histograms).\n",
      "  warnings.warn(msg, FutureWarning)\n"
     ]
    },
    {
     "data": {
      "text/plain": [
       "<AxesSubplot:xlabel='Open_con_currency', ylabel='Density'>"
      ]
     },
     "execution_count": 17,
     "metadata": {},
     "output_type": "execute_result"
    },
    {
     "data": {
      "image/png": "[encoded data removed]",
      "text/plain": [
       "<Figure size 432x288 with 1 Axes>"
      ]
     },
     "metadata": {
      "needs_background": "light"
     },
     "output_type": "display_data"
    }
   ],
   "source": [
    "sns.distplot(df['Open_con_currency'], bins=25) # Shows extreme values"
   ]
  },
  {
   "cell_type": "code",
   "execution_count": 18,
   "id": "ffea971b",
   "metadata": {},
   "outputs": [
    {
     "data": {
      "text/plain": [
       "2323.6186172793496"
      ]
     },
     "execution_count": 18,
     "metadata": {},
     "output_type": "execute_result"
    }
   ],
   "source": [
    "df['Open_con_currency'].mean() # Check the mean"
   ]
  },
  {
   "cell_type": "code",
   "execution_count": 19,
   "id": "a9dcc060",
   "metadata": {},
   "outputs": [
    {
     "data": {
      "text/plain": [
       "651.2112108800001"
      ]
     },
     "execution_count": 19,
     "metadata": {},
     "output_type": "execute_result"
    }
   ],
   "source": [
    "df['Open_con_currency'].median() # Check the median"
   ]
  },
  {
   "cell_type": "code",
   "execution_count": 20,
   "id": "4b1e2f8c",
   "metadata": {},
   "outputs": [
    {
     "data": {
      "text/plain": [
       "16590.42969"
      ]
     },
     "execution_count": 20,
     "metadata": {},
     "output_type": "execute_result"
    }
   ],
   "source": [
    "df['Open_con_currency'].max() # Check the max"
   ]
  },
  {
   "cell_type": "code",
   "execution_count": 21,
   "id": "68b39f6b",
   "metadata": {},
   "outputs": [],
   "source": [
    "# Reshape the variables into NumPy arrays and put them into separate objects.\n",
    "\n",
    "X = df['Open_con_currency'].values.reshape(-1,1)\n",
    "y = df['High_con_currency'].values.reshape(-1,1)"
   ]
  },
  {
   "cell_type": "code",
   "execution_count": 22,
   "id": "2d93091d",
   "metadata": {},
   "outputs": [
    {
     "data": {
      "text/plain": [
       "array([[528.690002  ],\n",
       "       [527.210022  ],\n",
       "       [527.840027  ],\n",
       "       ...,\n",
       "       [ 16.32903943],\n",
       "       [ 16.3099298 ],\n",
       "       [ 16.36036987]])"
      ]
     },
     "execution_count": 22,
     "metadata": {},
     "output_type": "execute_result"
    }
   ],
   "source": [
    "X"
   ]
  },
  {
   "cell_type": "code",
   "execution_count": 24,
   "id": "5e0c34ec",
   "metadata": {},
   "outputs": [
    {
     "data": {
      "text/plain": [
       "array([[528.690002  ],\n",
       "       [527.210022  ],\n",
       "       [527.840027  ],\n",
       "       ...,\n",
       "       [ 16.36544006],\n",
       "       [ 16.45358044],\n",
       "       [ 16.42822949]])"
      ]
     },
     "execution_count": 24,
     "metadata": {},
     "output_type": "execute_result"
    }
   ],
   "source": [
    "y"
   ]
  },
  {
   "cell_type": "code",
   "execution_count": 25,
   "id": "319de839",
   "metadata": {},
   "outputs": [],
   "source": [
    "# Split data into a training set and a test set.\n",
    "\n",
    "X_train, X_test, y_train, y_test = train_test_split(X, y, test_size=0.3, random_state=0)"
   ]
  },
  {
   "cell_type": "code",
   "execution_count": 26,
   "id": "68d7e31e",
   "metadata": {},
   "outputs": [],
   "source": [
    "# Create a regression object.\n",
    "\n",
    "regression = LinearRegression()"
   ]
  },
  {
   "cell_type": "code",
   "execution_count": 27,
   "id": "0d80175a",
   "metadata": {},
   "outputs": [
    {
     "data": {
      "text/plain": [
       "LinearRegression()"
      ]
     },
     "execution_count": 27,
     "metadata": {},
     "output_type": "execute_result"
    }
   ],
   "source": [
    "# Fit the regression object onto the training set.\n",
    "\n",
    "regression.fit(X_train, y_train)"
   ]
  },
  {
   "cell_type": "code",
   "execution_count": 28,
   "id": "896cc4e4",
   "metadata": {},
   "outputs": [],
   "source": [
    "# Predict the values of y using X.\n",
    "\n",
    "y_predicted = regression.predict(X_test)"
   ]
  },
  {
   "cell_type": "code",
   "execution_count": 29,
   "id": "50513cbc",
   "metadata": {},
   "outputs": [
    {
     "data": {
      "image/png": "[encoded data removed]",
      "text/plain": [
       "<Figure size 432x288 with 1 Axes>"
      ]
     },
     "metadata": {
      "needs_background": "light"
     },
     "output_type": "display_data"
    }
   ],
   "source": [
    "# Create a plot that shows the regression line from the model on the test set.\n",
    "\n",
    "plot_test = plt\n",
    "plot_test.scatter(X_test, y_test, color='gray', s = 15)\n",
    "plot_test.plot(X_test, y_predicted, color='red', linewidth =3)\n",
    "plot_test.title('Opening Stock Price vs High Stock Price (Test set)')\n",
    "plot_test.xlabel('Opening Stock Price')\n",
    "plot_test.ylabel('High Stock Price')\n",
    "plot_test.show()"
   ]
  },
  {
   "cell_type": "markdown",
   "id": "cd31f1ec",
   "metadata": {},
   "source": [
    "The linear regression line is a very good fit to the data."
   ]
  },
  {
   "cell_type": "code",
   "execution_count": 30,
   "id": "5d6ad34b",
   "metadata": {},
   "outputs": [],
   "source": [
    "# Create objects that contain the model summary statistics.\n",
    "\n",
    "rmse = mean_squared_error(y_test, y_predicted) # This is the mean squared error\n",
    "r2 = r2_score(y_test, y_predicted) # This is the R2 score. "
   ]
  },
  {
   "cell_type": "code",
   "execution_count": 31,
   "id": "24d3c736",
   "metadata": {},
   "outputs": [
    {
     "name": "stdout",
     "output_type": "stream",
     "text": [
      "Slope: [[1.00491133]]\n",
      "Mean squared error:  533.9576389942802\n",
      "R2 score:  0.999951238971383\n"
     ]
    }
   ],
   "source": [
    "# Print the model summary statistics. \n",
    "\n",
    "print('Slope:' ,regression.coef_)\n",
    "print('Mean squared error: ', rmse)\n",
    "print('R2 score: ', r2)"
   ]
  },
  {
   "cell_type": "markdown",
   "id": "9b9e96e4",
   "metadata": {},
   "source": [
    "Root mean squared error being 534 means the regression may not be the best model.\n",
    "With r^2 of almost a 1, this is a great fit."
   ]
  },
  {
   "cell_type": "code",
   "execution_count": 32,
   "id": "c154a3f1",
   "metadata": {},
   "outputs": [
    {
     "data": {
      "text/plain": [
       "array([[1.60958821e+03],\n",
       "       [1.58360372e+02],\n",
       "       [7.79287046e+02],\n",
       "       ...,\n",
       "       [9.58330870e-01],\n",
       "       [3.35165421e+03],\n",
       "       [1.04046915e+03]])"
      ]
     },
     "execution_count": 32,
     "metadata": {},
     "output_type": "execute_result"
    }
   ],
   "source": [
    "y_predicted"
   ]
  },
  {
   "cell_type": "code",
   "execution_count": 33,
   "id": "92d8c79a",
   "metadata": {},
   "outputs": [
    {
     "data": {
      "text/html": [
       "<div>\n",
       "<style scoped>\n",
       "    .dataframe tbody tr th:only-of-type {\n",
       "        vertical-align: middle;\n",
       "    }\n",
       "\n",
       "    .dataframe tbody tr th {\n",
       "        vertical-align: top;\n",
       "    }\n",
       "\n",
       "    .dataframe thead th {\n",
       "        text-align: right;\n",
       "    }\n",
       "</style>\n",
       "<table border=\"1\" class=\"dataframe\">\n",
       "  <thead>\n",
       "    <tr style=\"text-align: right;\">\n",
       "      <th></th>\n",
       "      <th>Actual</th>\n",
       "      <th>Predicted</th>\n",
       "    </tr>\n",
       "  </thead>\n",
       "  <tbody>\n",
       "    <tr>\n",
       "      <th>0</th>\n",
       "      <td>1607.817656</td>\n",
       "      <td>1609.588206</td>\n",
       "    </tr>\n",
       "    <tr>\n",
       "      <th>1</th>\n",
       "      <td>162.312838</td>\n",
       "      <td>158.360372</td>\n",
       "    </tr>\n",
       "    <tr>\n",
       "      <th>2</th>\n",
       "      <td>774.760000</td>\n",
       "      <td>779.287046</td>\n",
       "    </tr>\n",
       "    <tr>\n",
       "      <th>3</th>\n",
       "      <td>9209.009766</td>\n",
       "      <td>9176.723246</td>\n",
       "    </tr>\n",
       "    <tr>\n",
       "      <th>4</th>\n",
       "      <td>453.799988</td>\n",
       "      <td>455.479715</td>\n",
       "    </tr>\n",
       "    <tr>\n",
       "      <th>5</th>\n",
       "      <td>1670.767970</td>\n",
       "      <td>1674.847932</td>\n",
       "    </tr>\n",
       "    <tr>\n",
       "      <th>6</th>\n",
       "      <td>8.775650</td>\n",
       "      <td>9.757094</td>\n",
       "    </tr>\n",
       "    <tr>\n",
       "      <th>7</th>\n",
       "      <td>8533.620000</td>\n",
       "      <td>8514.627443</td>\n",
       "    </tr>\n",
       "    <tr>\n",
       "      <th>8</th>\n",
       "      <td>53.748704</td>\n",
       "      <td>54.971012</td>\n",
       "    </tr>\n",
       "    <tr>\n",
       "      <th>9</th>\n",
       "      <td>4481.519922</td>\n",
       "      <td>4494.921814</td>\n",
       "    </tr>\n",
       "    <tr>\n",
       "      <th>10</th>\n",
       "      <td>8111.880000</td>\n",
       "      <td>7838.157522</td>\n",
       "    </tr>\n",
       "    <tr>\n",
       "      <th>11</th>\n",
       "      <td>9312.349609</td>\n",
       "      <td>9359.043994</td>\n",
       "    </tr>\n",
       "    <tr>\n",
       "      <th>12</th>\n",
       "      <td>7461.439453</td>\n",
       "      <td>7494.973510</td>\n",
       "    </tr>\n",
       "    <tr>\n",
       "      <th>13</th>\n",
       "      <td>555.395195</td>\n",
       "      <td>556.484582</td>\n",
       "    </tr>\n",
       "    <tr>\n",
       "      <th>14</th>\n",
       "      <td>366.399994</td>\n",
       "      <td>368.655382</td>\n",
       "    </tr>\n",
       "    <tr>\n",
       "      <th>15</th>\n",
       "      <td>4153.359863</td>\n",
       "      <td>4174.716729</td>\n",
       "    </tr>\n",
       "    <tr>\n",
       "      <th>16</th>\n",
       "      <td>209.669045</td>\n",
       "      <td>211.359396</td>\n",
       "    </tr>\n",
       "    <tr>\n",
       "      <th>17</th>\n",
       "      <td>1872.072026</td>\n",
       "      <td>1882.224727</td>\n",
       "    </tr>\n",
       "    <tr>\n",
       "      <th>18</th>\n",
       "      <td>84.061656</td>\n",
       "      <td>85.432842</td>\n",
       "    </tr>\n",
       "    <tr>\n",
       "      <th>19</th>\n",
       "      <td>6161.000000</td>\n",
       "      <td>6192.217056</td>\n",
       "    </tr>\n",
       "    <tr>\n",
       "      <th>20</th>\n",
       "      <td>1977.780029</td>\n",
       "      <td>1988.451897</td>\n",
       "    </tr>\n",
       "    <tr>\n",
       "      <th>21</th>\n",
       "      <td>0.000000</td>\n",
       "      <td>0.958331</td>\n",
       "    </tr>\n",
       "    <tr>\n",
       "      <th>22</th>\n",
       "      <td>54.343756</td>\n",
       "      <td>55.568988</td>\n",
       "    </tr>\n",
       "    <tr>\n",
       "      <th>23</th>\n",
       "      <td>1567.004844</td>\n",
       "      <td>1562.336489</td>\n",
       "    </tr>\n",
       "    <tr>\n",
       "      <th>24</th>\n",
       "      <td>292.773604</td>\n",
       "      <td>294.774795</td>\n",
       "    </tr>\n",
       "    <tr>\n",
       "      <th>25</th>\n",
       "      <td>1677.070469</td>\n",
       "      <td>1671.013253</td>\n",
       "    </tr>\n",
       "    <tr>\n",
       "      <th>26</th>\n",
       "      <td>1706.847970</td>\n",
       "      <td>1696.896472</td>\n",
       "    </tr>\n",
       "    <tr>\n",
       "      <th>27</th>\n",
       "      <td>154.759423</td>\n",
       "      <td>152.039617</td>\n",
       "    </tr>\n",
       "    <tr>\n",
       "      <th>28</th>\n",
       "      <td>5400.745136</td>\n",
       "      <td>5312.871298</td>\n",
       "    </tr>\n",
       "    <tr>\n",
       "      <th>29</th>\n",
       "      <td>36.812099</td>\n",
       "      <td>37.190911</td>\n",
       "    </tr>\n",
       "  </tbody>\n",
       "</table>\n",
       "</div>"
      ],
      "text/plain": [
       "         Actual    Predicted\n",
       "0   1607.817656  1609.588206\n",
       "1    162.312838   158.360372\n",
       "2    774.760000   779.287046\n",
       "3   9209.009766  9176.723246\n",
       "4    453.799988   455.479715\n",
       "5   1670.767970  1674.847932\n",
       "6      8.775650     9.757094\n",
       "7   8533.620000  8514.627443\n",
       "8     53.748704    54.971012\n",
       "9   4481.519922  4494.921814\n",
       "10  8111.880000  7838.157522\n",
       "11  9312.349609  9359.043994\n",
       "12  7461.439453  7494.973510\n",
       "13   555.395195   556.484582\n",
       "14   366.399994   368.655382\n",
       "15  4153.359863  4174.716729\n",
       "16   209.669045   211.359396\n",
       "17  1872.072026  1882.224727\n",
       "18    84.061656    85.432842\n",
       "19  6161.000000  6192.217056\n",
       "20  1977.780029  1988.451897\n",
       "21     0.000000     0.958331\n",
       "22    54.343756    55.568988\n",
       "23  1567.004844  1562.336489\n",
       "24   292.773604   294.774795\n",
       "25  1677.070469  1671.013253\n",
       "26  1706.847970  1696.896472\n",
       "27   154.759423   152.039617\n",
       "28  5400.745136  5312.871298\n",
       "29    36.812099    37.190911"
      ]
     },
     "execution_count": 33,
     "metadata": {},
     "output_type": "execute_result"
    }
   ],
   "source": [
    "# Create a dataframe comparing the actual and predicted values of y.\n",
    "\n",
    "data = pd.DataFrame({'Actual': y_test.flatten(), 'Predicted': y_predicted.flatten()})\n",
    "data.head(30)"
   ]
  },
  {
   "cell_type": "code",
   "execution_count": 34,
   "id": "c00db54d",
   "metadata": {},
   "outputs": [],
   "source": [
    "# Predict.\n",
    "\n",
    "y_predicted_train = regression.predict(X_train) # This is predicting X_train!"
   ]
  },
  {
   "cell_type": "code",
   "execution_count": 35,
   "id": "0da94e0d",
   "metadata": {},
   "outputs": [],
   "source": [
    "rmse = mean_squared_error(y_train, y_predicted_train)\n",
    "r2 = r2_score(y_train, y_predicted_train)"
   ]
  },
  {
   "cell_type": "code",
   "execution_count": 36,
   "id": "57e24c24",
   "metadata": {},
   "outputs": [
    {
     "name": "stdout",
     "output_type": "stream",
     "text": [
      "Slope: [[1.00491133]]\n",
      "Mean squared error:  575.7556247419562\n",
      "R2 score:  0.9999466067131125\n"
     ]
    }
   ],
   "source": [
    "print('Slope:' ,regression.coef_)\n",
    "print('Mean squared error: ', rmse)\n",
    "print('R2 score: ', r2)"
   ]
  },
  {
   "cell_type": "code",
   "execution_count": 37,
   "id": "c74028fb",
   "metadata": {},
   "outputs": [
    {
     "data": {
      "image/png": "[encoded data removed]",
      "text/plain": [
       "<Figure size 432x288 with 1 Axes>"
      ]
     },
     "metadata": {
      "needs_background": "light"
     },
     "output_type": "display_data"
    }
   ],
   "source": [
    "# Visualizing the training set results.\n",
    "\n",
    "plot_test = plt\n",
    "plot_test.scatter(X_train, y_train, color='green', s = 15)\n",
    "plot_test.plot(X_train, y_predicted_train, color='red', linewidth =3)\n",
    "plot_test.title('Opening Stock Price vs High Stock Price (Test set)')\n",
    "plot_test.xlabel('Opening Stock Price')\n",
    "plot_test.ylabel('High Stock Price')\n",
    "plot_test.show()"
   ]
  },
  {
   "cell_type": "markdown",
   "id": "b522688f",
   "metadata": {},
   "source": [
    "With an r^2 value of almost and the actual values and predicted values so close, the model performed good. The data is also linear with a slope of 1.\n",
    "\n",
    "Since data was collected from yahoo finance, stock data from various countries and is from a reliable source kaggle there appears to be no bias. "
   ]
  },
  {
   "cell_type": "code",
   "execution_count": 38,
   "id": "4f8ebe91",
   "metadata": {},
   "outputs": [],
   "source": [
    "# 13. Export df to Prepared Data folder\n",
    "\n",
    "df.to_csv(os.path.join(path, '6 Data', 'Prepared Data ', 'df_regression.csv'))"
   ]
  }
 ],
 "metadata": {
  "kernelspec": {
   "display_name": "Python 3",
   "language": "python",
   "name": "python3"
  },
  "language_info": {
   "codemirror_mode": {
    "name": "ipython",
    "version": 3
   },
   "file_extension": ".py",
   "mimetype": "text/x-python",
   "name": "python",
   "nbconvert_exporter": "python",
   "pygments_lexer": "ipython3",
   "version": "3.8.8"
  }
 },
 "nbformat": 4,
 "nbformat_minor": 5
}
